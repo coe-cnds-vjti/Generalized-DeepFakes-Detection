{
 "cells": [
  {
   "cell_type": "code",
   "execution_count": null,
   "metadata": {},
   "outputs": [],
   "source": [
    "# Requires audio_biggerthan2sec/"
   ]
  },
  {
   "cell_type": "code",
   "execution_count": null,
   "metadata": {},
   "outputs": [],
   "source": [
    "from IPython.display import Audio\n",
    "import soundfile as sf\n",
    "from scipy.signal import spectrogram\n",
    "import matplotlib.pyplot as plt\n",
    "import os\n",
    "import librosa\n",
    "import librosa.display\n",
    "from tqdm import tqdm_notebook\n",
    "from pathlib import Path\n",
    "import shutil\n",
    "import numpy as np\n",
    "import scipy\n",
    "from random import shuffle"
   ]
  },
  {
   "cell_type": "code",
   "execution_count": null,
   "metadata": {},
   "outputs": [],
   "source": [
    "threshold = 256"
   ]
  },
  {
   "cell_type": "code",
   "execution_count": null,
   "metadata": {},
   "outputs": [],
   "source": [
    "for split in ['train','dev','eval']:\n",
    "    for label in ['real','fake']:\n",
    "        Path(f'mel_spec/{split}/{label}').mkdir(parents=True, exist_ok = True)"
   ]
  },
  {
   "cell_type": "code",
   "execution_count": null,
   "metadata": {},
   "outputs": [],
   "source": [
    "n_mels = 256\n",
    "fmin = 20\n",
    "fmax = 8192\n",
    "hop_length = 128\n",
    "n_fft = 1024\n",
    "for split in ['train','dev','eval']:\n",
    "    for label in ['real','fake']:\n",
    "        files = [f for f in os.listdir(f'audio_biggerthan2sec/{split}/{label}') if 'flac' in f]\n",
    "        for file in tqdm_notebook(files, desc = f'{split}_{label}'):\n",
    "            clip, sample_rate = librosa.load(f'audio_biggerthan2sec/{split}/{label}/{file}', sr=None)\n",
    "            mel_spec = librosa.feature.melspectrogram(clip, n_fft=n_fft, hop_length=hop_length, n_mels=n_mels, sr=sample_rate, power=1.0, fmin=fmin, fmax=fmax)\n",
    "            if mel_spec.shape[0] > mel_spec.shape[1]:\n",
    "                continue\n",
    "            mel_spec_db = librosa.amplitude_to_db(mel_spec, ref=np.max)\n",
    "            filename = file.split('.')[0]\n",
    "            plt.imsave(f'mel_spec/{split}/{label}/{filename}.jpg',mel_spec_db[::-1,:],cmap='gray')"
   ]
  },
  {
   "cell_type": "code",
   "execution_count": null,
   "metadata": {},
   "outputs": [],
   "source": [
    "og_dataset = 'mel_spec'\n",
    "new_dataset_name = f'{og_dataset}_{threshold}_crop_first'\n",
    "\n",
    "for split in ['train','dev','eval']:\n",
    "    for label in ['real','fake']:\n",
    "        Path(f'{new_dataset_name}/{split}/{label}').mkdir(parents=True, exist_ok = True)\n",
    "\n",
    "for split in ['train','dev','eval']:\n",
    "    for label in ['real','fake']:\n",
    "        files = os.listdir(f'{og_dataset}/{split}/{label}')\n",
    "        for file in tqdm_notebook(files, desc = f'{split}_{label}'):\n",
    "            img = plt.imread(f'{og_dataset}/{split}/{label}/{file}')\n",
    "            if img.shape[1] >= threshold:\n",
    "                plt.imsave(f'{new_dataset_name}/{split}/{label}/{file}',img[:,:threshold],cmap = 'gray')"
   ]
  },
  {
   "cell_type": "code",
   "execution_count": null,
   "metadata": {},
   "outputs": [],
   "source": [
    "for split in ['train','dev','eval']:\n",
    "    for label in ['real','fake']:\n",
    "        Path(f'amp_plot/{split}/{label}').mkdir(parents=True, exist_ok = True)"
   ]
  },
  {
   "cell_type": "code",
   "execution_count": null,
   "metadata": {},
   "outputs": [],
   "source": [
    "scale = 4.72519513245\n",
    "for split in ['train','dev','eval']:\n",
    "    for label in ['real','fake']:\n",
    "        files = [f for f in os.listdir(f'audio_biggerthan2sec/{split}/{label}') if 'flac' in f]\n",
    "        count = 0\n",
    "        for file in tqdm_notebook(files, desc = f'{split}_{label}'):\n",
    "            clip, sample_rate = librosa.load(f'audio_biggerthan2sec/{split}/{label}/{file}', sr=None)\n",
    "            if len(clip)/sample_rate >= 2:\n",
    "                plt.figure(figsize=((len(clip)/sample_rate)*scale/2,scale))\n",
    "                plt.plot(clip,color='k')\n",
    "                plt.axis('off')\n",
    "                plt.margins(0,0)\n",
    "                plt.savefig(f'amp_plot/{split}/{label}/{file}.jpg', cmap='gray', bbox_inches='tight', pad_inches = 0)\n",
    "                if count % 20 == 0:\n",
    "                    plt.close('all')\n",
    "            count += 1"
   ]
  },
  {
   "cell_type": "code",
   "execution_count": null,
   "metadata": {},
   "outputs": [],
   "source": [
    "og_dataset = 'amp_plot'\n",
    "new_dataset_name = f'{og_dataset}_{threshold}_crop_first_negative'\n",
    "\n",
    "for split in ['train','dev','eval']:\n",
    "    for label in ['real','fake']:\n",
    "        Path(f'{new_dataset_name}/{split}/{label}').mkdir(parents=True, exist_ok = True)\n",
    "\n",
    "for split in ['train','dev','eval']:\n",
    "    for label in ['real','fake']:\n",
    "        files = os.listdir(f'{og_dataset}/{split}/{label}')\n",
    "        for file in tqdm_notebook(files, desc = f'{split}_{label}'):\n",
    "            img = plt.imread(f'{og_dataset}/{split}/{label}/{file}')\n",
    "            if img.shape[1] >= threshold:\n",
    "                plt.imsave(f'{new_dataset_name}/{split}/{label}/{file}',255-img[:,:threshold],cmap = 'gray')"
   ]
  }
 ],
 "metadata": {
  "kernelspec": {
   "display_name": "Python 3",
   "language": "python",
   "name": "python3"
  },
  "language_info": {
   "codemirror_mode": {
    "name": "ipython",
    "version": 3
   },
   "file_extension": ".py",
   "mimetype": "text/x-python",
   "name": "python",
   "nbconvert_exporter": "python",
   "pygments_lexer": "ipython3",
   "version": "3.7.4"
  }
 },
 "nbformat": 4,
 "nbformat_minor": 2
}
