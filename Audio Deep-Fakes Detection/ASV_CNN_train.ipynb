{
 "cells": [
  {
   "cell_type": "code",
   "execution_count": null,
   "metadata": {
    "colab": {},
    "colab_type": "code",
    "id": "_ifd9D4YPodQ"
   },
   "outputs": [],
   "source": [
    "from pathlib import Path\n",
    "import shutil"
   ]
  },
  {
   "cell_type": "code",
   "execution_count": null,
   "metadata": {
    "colab": {},
    "colab_type": "code",
    "id": "X73ugMB0QB89"
   },
   "outputs": [],
   "source": [
    "import pandas as pd\n",
    "import os\n",
    "from matplotlib import pyplot as plt\n",
    "import numpy as np\n",
    "from pathlib import Path\n",
    "import tensorflow as tf\n",
    "from tensorflow.keras.mixed_precision import experimental as mixed_precision\n",
    "from tensorflow.keras.preprocessing.image import ImageDataGenerator\n",
    "from tensorflow.keras import layers, models\n",
    "from tensorflow.keras.optimizers import Adam\n",
    "from tensorflow.keras.callbacks import ModelCheckpoint, EarlyStopping, ReduceLROnPlateau, Callback\n",
    "from tensorflow.keras.models import load_model"
   ]
  },
  {
   "cell_type": "code",
   "execution_count": null,
   "metadata": {
    "colab": {},
    "colab_type": "code",
    "id": "M-jTi6Xn2NOD"
   },
   "outputs": [],
   "source": [
    "policy = mixed_precision.Policy('mixed_float16')\n",
    "mixed_precision.set_policy(policy)"
   ]
  },
  {
   "cell_type": "code",
   "execution_count": null,
   "metadata": {
    "colab": {},
    "colab_type": "code",
    "id": "z-Ktu-R_Xf_2"
   },
   "outputs": [],
   "source": [
    "def small_cnn(input_shape = (256, 256, 1), lr = 1e-3, factor = 16):\n",
    "    img_input = layers.Input(input_shape)\n",
    "    X = layers.Conv2D(factor, 3, padding = 'same', activation = 'relu')(img_input)\n",
    "    X = layers.MaxPooling2D(pool_size = (2, 2))(X)\n",
    "    X = layers.Conv2D(factor*2, 3, padding = 'same', activation = 'relu')(X)\n",
    "    X = layers.MaxPooling2D(pool_size = (2, 2))(X)\n",
    "    X = layers.Conv2D(factor*4, 3, padding = 'same', activation = 'relu')(X)\n",
    "    X = layers.MaxPooling2D(pool_size = (2, 2))(X)\n",
    "    X = layers.Conv2D(factor*8, 3, padding = 'same', activation = 'relu')(X)\n",
    "    X = layers.MaxPooling2D(pool_size = (2, 2))(X)\n",
    "    X = layers.Conv2D(factor*16, 3, padding = 'same', activation = 'relu')(X)\n",
    "    X = layers.MaxPooling2D(pool_size = (2, 2))(X)\n",
    "    X = layers.Flatten()(X)\n",
    "    X = layers.Dense(128, activation = 'relu')(X)\n",
    "    X = layers.Dropout(rate=0.5)(X)\n",
    "    X = layers.Dense(1)(X)\n",
    "    X = layers.Activation('sigmoid', dtype='float32', name='predictions')(X)\n",
    "    model = models.Model(inputs = img_input, outputs = X)\n",
    "    model.compile(optimizer = Adam(lr), loss = 'binary_crossentropy', metrics = ['accuracy'])\n",
    "    return model"
   ]
  },
  {
   "cell_type": "code",
   "execution_count": null,
   "metadata": {
    "colab": {
     "base_uri": "https://localhost:8080/",
     "height": 1000
    },
    "colab_type": "code",
    "id": "_PrQUfC-X4sT",
    "outputId": "6734d922-a13f-49bb-8686-38d52faebc3a"
   },
   "outputs": [],
   "source": [
    "batch_size = 64\n",
    "target_size = (256, 256)\n",
    "color_mode = 'grayscale'\n",
    "dataset = 'amp_plot_256_crop_first_negative'\n",
    "train_datagen = ImageDataGenerator(rescale=1/255)\n",
    "val_datagen = ImageDataGenerator(rescale=1/255)\n",
    "test_datagen = ImageDataGenerator(rescale=1/255)\n",
    "train_generator = train_datagen.flow_from_directory(f'{dataset}/train/', target_size=target_size, batch_size=batch_size, class_mode='binary', color_mode=color_mode, classes = ['real','fake'])\n",
    "val_generator = val_datagen.flow_from_directory(f'{dataset}/dev/', target_size=target_size, batch_size=batch_size, class_mode='binary', color_mode=color_mode, classes = ['real','fake'])\n",
    "test_generator = test_datagen.flow_from_directory(f'{dataset}/eval/', target_size=target_size, batch_size=batch_size, class_mode='binary', color_mode=color_mode, classes = ['real','fake'])\n",
    "for attempt in range(5):\n",
    "    model_path = f'models/{dataset}_{attempt}'\n",
    "    Path(model_path).mkdir(parents=True, exist_ok = True)\n",
    "    checkpointer = ModelCheckpoint(model_path+f'/{dataset}_smallcnn_grayscale_'+'epochs:{epoch:02d}_acc:{val_accuracy:.4f}.h5', monitor = 'val_loss', save_best_only = True, verbose = 0, mode = 'auto')\n",
    "    earlystopper = EarlyStopping(monitor = 'val_loss', patience = 5, verbose = 0, mode = 'auto')\n",
    "    reduceLR = ReduceLROnPlateau(monitor = 'val_loss', factor = 1/np.sqrt(10), patience = 3, cooldown = 1, verbose = 0, mode = 'auto')\n",
    "    model = small_cnn((256,256,1))\n",
    "    history = model.fit(train_generator, steps_per_epoch = len(train_generator), verbose = 2, epochs = 50, callbacks = [checkpointer, earlystopper, reduceLR], validation_data=val_generator, validation_steps = len(val_generator))\n",
    "    print(model.evaluate(test_generator, steps = 2*len(test_generator)))"
   ]
  },
  {
   "cell_type": "code",
   "execution_count": null,
   "metadata": {
    "colab": {
     "base_uri": "https://localhost:8080/",
     "height": 1000
    },
    "colab_type": "code",
    "id": "gGNoaYFI_W5c",
    "outputId": "f0186d26-f362-4cea-cd9d-d0e5cf4e89dc"
   },
   "outputs": [],
   "source": [
    "batch_size = 64\n",
    "target_size = (256, 256)\n",
    "color_mode = 'grayscale'\n",
    "dataset = 'mel_spec_256_crop_first'\n",
    "train_datagen = ImageDataGenerator(rescale=1/255)\n",
    "val_datagen = ImageDataGenerator(rescale=1/255)\n",
    "test_datagen = ImageDataGenerator(rescale=1/255)\n",
    "train_generator = train_datagen.flow_from_directory(f'{dataset}/train/', target_size=target_size, batch_size=batch_size, class_mode='binary', color_mode=color_mode, classes = ['real','fake'])\n",
    "val_generator = val_datagen.flow_from_directory(f'{dataset}/dev/', target_size=target_size, batch_size=batch_size, class_mode='binary', color_mode=color_mode, classes = ['real','fake'])\n",
    "test_generator = test_datagen.flow_from_directory(f'{dataset}/eval/', target_size=target_size, batch_size=batch_size, class_mode='binary', color_mode=color_mode, classes = ['real','fake'])\n",
    "for attempt in range(5):\n",
    "    model_path = f'models/{dataset}_{attempt}'\n",
    "    Path(model_path).mkdir(parents=True, exist_ok = True)\n",
    "    checkpointer = ModelCheckpoint(model_path+f'/{dataset}_smallcnn_grayscale_'+'epochs:{epoch:02d}_acc:{val_accuracy:.4f}.h5', monitor = 'val_loss', save_best_only = True, verbose = 0, mode = 'auto')\n",
    "    earlystopper = EarlyStopping(monitor = 'val_loss', patience = 5, verbose = 0, mode = 'auto')\n",
    "    reduceLR = ReduceLROnPlateau(monitor = 'val_loss', factor = 1/np.sqrt(10), patience = 3, cooldown = 1, verbose = 0, mode = 'auto')\n",
    "    model = small_cnn((256,256,1))\n",
    "    history = model.fit(train_generator, steps_per_epoch = len(train_generator), verbose = 2, epochs = 50, callbacks = [checkpointer, earlystopper, reduceLR], validation_data=val_generator, validation_steps = len(val_generator))\n",
    "    print(model.evaluate(test_generator, steps = 2*len(test_generator)))"
   ]
  }
 ],
 "metadata": {
  "accelerator": "GPU",
  "colab": {
   "collapsed_sections": [],
   "name": "ASV.ipynb",
   "provenance": []
  },
  "kernelspec": {
   "display_name": "Python 3",
   "language": "python",
   "name": "python3"
  },
  "language_info": {
   "codemirror_mode": {
    "name": "ipython",
    "version": 3
   },
   "file_extension": ".py",
   "mimetype": "text/x-python",
   "name": "python",
   "nbconvert_exporter": "python",
   "pygments_lexer": "ipython3",
   "version": "3.7.4"
  }
 },
 "nbformat": 4,
 "nbformat_minor": 1
}
