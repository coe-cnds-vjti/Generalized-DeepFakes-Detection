{
 "cells": [
  {
   "cell_type": "code",
   "execution_count": null,
   "metadata": {},
   "outputs": [],
   "source": [
    "from IPython.display import Audio\n",
    "import soundfile as sf\n",
    "from scipy.signal import spectrogram\n",
    "import matplotlib.pyplot as plt\n",
    "import os\n",
    "import librosa\n",
    "import librosa.display\n",
    "from tqdm import tqdm_notebook\n",
    "from pathlib import Path\n",
    "import shutil\n",
    "import numpy as np\n",
    "import scipy\n",
    "from random import shuffle"
   ]
  },
  {
   "cell_type": "code",
   "execution_count": null,
   "metadata": {},
   "outputs": [],
   "source": [
    "import json\n",
    "with open('metadata_dict.json','r') as f:\n",
    "    metadata_dict = json.load(f)"
   ]
  },
  {
   "cell_type": "code",
   "execution_count": null,
   "metadata": {},
   "outputs": [],
   "source": [
    "dataset = 'audio_biggerthan2sec'\n",
    "\n",
    "for split in ['train','dev','eval']:\n",
    "    for label in ['real','fake']:\n",
    "        Path(f'{dataset}/{split}/{label}').mkdir(parents=True, exist_ok = True)\n",
    "\n",
    "for split in ['train','dev','eval']:\n",
    "    for label in ['real']:\n",
    "        files = metadata_dict[f'{split}_{label}']\n",
    "        for file in tqdm_notebook(files, desc = f'{split}_{label}'):\n",
    "            clip, sample_rate = librosa.load(f'LA/ASVspoof2019_LA_{split}/flac/{file}.flac', sr=None)\n",
    "            if len(clip) >= sample_rate*2:\n",
    "                shutil.copy(f'LA/ASVspoof2019_LA_{split}/flac/{file}.flac',f'{dataset}/{split}/{label}/{file}.flac')\n",
    "\n",
    "for split in ['train','dev','eval']:\n",
    "    for label in ['fake']:\n",
    "        files = metadata_dict[f'{split}_{label}']\n",
    "        count = 0\n",
    "        num_required = len(os.listdir(f'{dataset}/{split}/real'))\n",
    "        for file in tqdm_notebook(files, desc = f'{split}_{label}'):\n",
    "            if count == num_required:\n",
    "                break\n",
    "            clip, sample_rate = librosa.load(f'LA/ASVspoof2019_LA_{split}/flac/{file}.flac', sr=None)\n",
    "            if len(clip) >= sample_rate*2:\n",
    "                shutil.copy(f'LA/ASVspoof2019_LA_{split}/flac/{file}.flac',f'{dataset}/{split}/{label}/{file}.flac')\n",
    "                count += 1"
   ]
  },
  {
   "cell_type": "code",
   "execution_count": null,
   "metadata": {},
   "outputs": [],
   "source": [
    "dataset = 'audio_biggerthan2sec'\n",
    "clip_length = 32000 # As samplerate is 16 KHz\n",
    "new_dataset = f'npys_{clip_length}'\n",
    "for split in ['train','dev','eval']:\n",
    "    for label in ['real','fake']:\n",
    "        Path(f'{new_dataset}/{split}/{label}').mkdir(parents=True, exist_ok=True)\n",
    "        files = os.listdir(f'{dataset}/{split}/{label}')\n",
    "        for file in tqdm_notebook(files):\n",
    "            clip, sample_rate = librosa.load(f'{dataset}/{split}/{label}/{file}', sr=None)\n",
    "            arr = clip[:clip_length]\n",
    "            filename = file.split('.')[0]\n",
    "            np.save(f'{new_dataset}/{split}/{label}/{filename}.npy', arr)"
   ]
  },
  {
   "cell_type": "code",
   "execution_count": null,
   "metadata": {},
   "outputs": [],
   "source": [
    "for split in ['train','dev','eval']:\n",
    "    for label in ['real','fake']:\n",
    "        files = os.listdir(f'{dataset}/{split}/{label}')\n",
    "        for file in tqdm_notebook(files):\n",
    "            clip, sample_rate = librosa.load(f'{dataset}/{split}/{label}/{file}', sr=None)\n",
    "            assert len(clip)/sample_rate >= 2"
   ]
  },
  {
   "cell_type": "code",
   "execution_count": null,
   "metadata": {},
   "outputs": [],
   "source": [
    "for split in ['train','dev','eval']:\n",
    "    for label in ['real','fake']:\n",
    "        length = len(os.listdir(f'{dataset}/{split}/{label}'))\n",
    "        print(f'{dataset}/{split}/{label}: {length}')"
   ]
  }
 ],
 "metadata": {
  "kernelspec": {
   "display_name": "Python 3",
   "language": "python",
   "name": "python3"
  },
  "language_info": {
   "codemirror_mode": {
    "name": "ipython",
    "version": 3
   },
   "file_extension": ".py",
   "mimetype": "text/x-python",
   "name": "python",
   "nbconvert_exporter": "python",
   "pygments_lexer": "ipython3",
   "version": "3.7.4"
  }
 },
 "nbformat": 4,
 "nbformat_minor": 2
}
