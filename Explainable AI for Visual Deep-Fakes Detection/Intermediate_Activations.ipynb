{
 "cells": [
  {
   "cell_type": "markdown",
   "metadata": {
    "colab_type": "text",
    "id": "nH3ZCFn_pQqZ"
   },
   "source": [
    "# **Visualizing Intermediate Activations**\n",
    "Here, we visualize the intermediate activations of our Keras model."
   ]
  },
  {
   "cell_type": "markdown",
   "metadata": {
    "colab_type": "text",
    "id": "0aYdV9TQqHK4"
   },
   "source": [
    "Import necessary packages"
   ]
  },
  {
   "cell_type": "code",
   "execution_count": null,
   "metadata": {
    "colab": {},
    "colab_type": "code",
    "id": "P9EDG8Llhs0W"
   },
   "outputs": [],
   "source": [
    "from keras.models import load_model, Model\n",
    "from keras.preprocessing import image\n",
    "import matplotlib.pyplot as plt\n",
    "import numpy as np"
   ]
  },
  {
   "cell_type": "markdown",
   "metadata": {
    "colab_type": "text",
    "id": "FoViOuGdD1U8"
   },
   "source": [
    "Add your image path in the cell below"
   ]
  },
  {
   "cell_type": "code",
   "execution_count": null,
   "metadata": {
    "colab": {},
    "colab_type": "code",
    "id": "v0_OT4hvTdcY"
   },
   "outputs": [],
   "source": [
    "img_path = 'YOUR IMAGE PATH'"
   ]
  },
  {
   "cell_type": "markdown",
   "metadata": {
    "colab_type": "text",
    "id": "skBEYZ9nD8R5"
   },
   "source": [
    "Preprocess input"
   ]
  },
  {
   "cell_type": "code",
   "execution_count": null,
   "metadata": {
    "colab": {},
    "colab_type": "code",
    "id": "1CiOkzHsDw7N"
   },
   "outputs": [],
   "source": [
    "x = plt.imread(img_path)\n",
    "plt.imshow(x)\n",
    "x = x/255\n",
    "x = np.expand_dims(x,0)\n",
    "x.shape"
   ]
  },
  {
   "cell_type": "markdown",
   "metadata": {
    "colab_type": "text",
    "id": "VwUF-uKzEATb"
   },
   "source": [
    "Load your Keras model below"
   ]
  },
  {
   "cell_type": "code",
   "execution_count": null,
   "metadata": {
    "colab": {},
    "colab_type": "code",
    "id": "_LRcU0U8UWby"
   },
   "outputs": [],
   "source": [
    "# Add model path below\n",
    "model = load_model('YOUR MODEL PATH')"
   ]
  },
  {
   "cell_type": "markdown",
   "metadata": {
    "colab_type": "text",
    "id": "slA2LBALEEXT"
   },
   "source": [
    "Get model predictions"
   ]
  },
  {
   "cell_type": "code",
   "execution_count": null,
   "metadata": {
    "colab": {},
    "colab_type": "code",
    "id": "MQDyBt-fUv6x"
   },
   "outputs": [],
   "source": [
    "model.predict(x)"
   ]
  },
  {
   "cell_type": "code",
   "execution_count": null,
   "metadata": {
    "colab": {},
    "colab_type": "code",
    "id": "YEjewF2Aqb8y"
   },
   "outputs": [],
   "source": [
    "# View all the layers of the model\n",
    "model.layers"
   ]
  },
  {
   "cell_type": "markdown",
   "metadata": {
    "colab_type": "text",
    "id": "__iYNPCEq83R"
   },
   "source": [
    "Select layer outputs and create Activation Model"
   ]
  },
  {
   "cell_type": "code",
   "execution_count": null,
   "metadata": {
    "colab": {},
    "colab_type": "code",
    "id": "ynhpNb71_C2J"
   },
   "outputs": [],
   "source": [
    "# Select the number of layers to take into consideration\n",
    "numlayers = 79 # We consider Xception model in this case\n",
    "\n",
    "# Extracts the outputs of the top 12 conv layers\n",
    "layer_outputs = [layer.output for layer in model.layers[:79]][1:]\n",
    "\n",
    "# Creates a model that will return these outputs, given the model input\n",
    "activation_model = Model(inputs=model.input, outputs=layer_outputs)"
   ]
  },
  {
   "cell_type": "markdown",
   "metadata": {
    "colab_type": "text",
    "id": "glqFKBp1rFZt"
   },
   "source": [
    "View Activation model summary"
   ]
  },
  {
   "cell_type": "code",
   "execution_count": null,
   "metadata": {
    "colab": {},
    "colab_type": "code",
    "id": "FZcblv_1_C2Y"
   },
   "outputs": [],
   "source": [
    "activation_model.summary()"
   ]
  },
  {
   "cell_type": "markdown",
   "metadata": {
    "colab_type": "text",
    "id": "jMpbnnEFsFXZ"
   },
   "source": [
    "Visualize Activation of a filter of the first layer"
   ]
  },
  {
   "cell_type": "code",
   "execution_count": null,
   "metadata": {
    "colab": {},
    "colab_type": "code",
    "id": "tAqqCPLY_C2n"
   },
   "outputs": [],
   "source": [
    "# Get outputs of all layers of activation model for given input\n",
    "activations = activation_model.predict(x)\n",
    "\n",
    "# Get activations of first layer\n",
    "first_layer_activation = activations[0]\n",
    "print(\"Shape of first layer activation: \", first_layer_activation.shape)\n",
    "\n",
    "# Visualize the activation of a given filter of a first layer\n",
    "filter_num = 4 # Choose your filter number\n",
    "plt.matshow(first_layer_activation[0, :, :, filter_num], cmap='viridis')"
   ]
  },
  {
   "cell_type": "markdown",
   "metadata": {
    "colab_type": "text",
    "id": "1H2YRpoYseMK"
   },
   "source": [
    "Visualize Activation of a filter of any intermediate layer"
   ]
  },
  {
   "cell_type": "code",
   "execution_count": null,
   "metadata": {
    "colab": {},
    "colab_type": "code",
    "id": "nQMTGK2V_C2t"
   },
   "outputs": [],
   "source": [
    "# Get outputs of all layers of activation model for given input\n",
    "activations = activation_model.predict(x)\n",
    "\n",
    "# Get activations of intermediate layer\n",
    "intermediate_layer_num = 34\n",
    "int_layer_activation = activations[34]\n",
    "print(\"Shape of first layer activation: \", first_layer_activation.shape)\n",
    "\n",
    "# Visualize the activation of a given filter of a given layer\n",
    "filter_num = 4 # Choose your filter number\n",
    "plt.matshow(int_layer_activation[0, :, :, filter_num], cmap='viridis')"
   ]
  },
  {
   "cell_type": "markdown",
   "metadata": {
    "colab_type": "text",
    "id": "EZjtxGcksvZ6"
   },
   "source": [
    "Create a dictionary corresponding to the layer names and their activations"
   ]
  },
  {
   "cell_type": "code",
   "execution_count": null,
   "metadata": {
    "colab": {},
    "colab_type": "code",
    "id": "FLyLQF6djlWV"
   },
   "outputs": [],
   "source": [
    "layer_acts = dict(zip(layer_names, ['No activation']+ activations))"
   ]
  },
  {
   "cell_type": "code",
   "execution_count": null,
   "metadata": {
    "colab": {},
    "colab_type": "code",
    "id": "ttbTIYc-tHP2"
   },
   "outputs": [],
   "source": [
    "layer_acts.keys() # List of layer names"
   ]
  },
  {
   "cell_type": "markdown",
   "metadata": {
    "colab_type": "text",
    "id": "K_CcpSuvs8SR"
   },
   "source": [
    "Visualize all the filter activations of a given layer"
   ]
  },
  {
   "cell_type": "code",
   "execution_count": null,
   "metadata": {
    "colab": {},
    "colab_type": "code",
    "id": "YdOiLb6z5WvK"
   },
   "outputs": [],
   "source": [
    "images_per_row = 16\n",
    "# Enter your layer name below\n",
    "layer_name ='SELECT YOUR LAYER' # Select any layer apart from the first one\n",
    "\n",
    "n_features = layer_acts[layer_name].shape[-1] # Number of features in the feature map\n",
    "size = layer_acts[layer_name].shape[1] #The feature map has shape (1, size, size, n_features).\n",
    "n_cols = n_features // images_per_row # Tiles the activation channels in this matrix\n",
    "display_grid = np.zeros((size * n_cols, images_per_row * size))\n",
    "\n",
    "for col in range(n_cols): # Tiles each filter into a big horizontal grid\n",
    "    for row in range(images_per_row):\n",
    "        channel_image = layer_acts[layer_name][0, :, :, col * images_per_row + row]\n",
    "        channel_image -= channel_image.mean() # Post-processes the feature to make it visually palatable\n",
    "        channel_image /= channel_image.std()\n",
    "        channel_image *= 64\n",
    "        channel_image += 128\n",
    "        channel_image = np.clip(channel_image, 0, 255).astype('uint8')\n",
    "        display_grid[col * size : (col + 1) * size, row * size : (row + 1) * size] = channel_image # Displays the grid\n",
    "\n",
    "scale = 1. / size\n",
    "plt.figure(figsize=(scale * display_grid.shape[1],\n",
    "                    scale * display_grid.shape[0]), facecolor='white')\n",
    "plt.axis('off')\n",
    "plt.title(layer_name)\n",
    "plt.grid(False)\n",
    "plt.imshow(display_grid, aspect='auto', cmap='viridis')"
   ]
  }
 ],
 "metadata": {
  "accelerator": "GPU",
  "colab": {
   "name": "Intermediate_Activations.ipynb",
   "provenance": []
  },
  "kernelspec": {
   "display_name": "Python 3",
   "language": "python",
   "name": "python3"
  },
  "language_info": {
   "codemirror_mode": {
    "name": "ipython",
    "version": 3
   },
   "file_extension": ".py",
   "mimetype": "text/x-python",
   "name": "python",
   "nbconvert_exporter": "python",
   "pygments_lexer": "ipython3",
   "version": "3.7.4"
  }
 },
 "nbformat": 4,
 "nbformat_minor": 1
}
