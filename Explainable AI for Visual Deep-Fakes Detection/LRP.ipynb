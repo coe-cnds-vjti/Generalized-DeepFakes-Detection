{
  "nbformat": 4,
  "nbformat_minor": 0,
  "metadata": {
    "colab": {
      "name": "LRP.ipynb",
      "provenance": [],
      "collapsed_sections": []
    },
    "kernelspec": {
      "name": "python3",
      "display_name": "Python 3"
    },
    "accelerator": "GPU"
  },
  "cells": [
    {
      "cell_type": "markdown",
      "metadata": {
        "id": "MFSC43omNII1",
        "colab_type": "text"
      },
      "source": [
        "# **Layerwise Relevance Propagation**\n",
        "\n",
        "We use iNNvestigate to test various interpretability methods, including a whole range of LRP methods."
      ]
    },
    {
      "cell_type": "code",
      "metadata": {
        "id": "jR3OvW75ELxn",
        "colab_type": "code",
        "colab": {}
      },
      "source": [
        "!pip install innvestigate"
      ],
      "execution_count": null,
      "outputs": []
    },
    {
      "cell_type": "markdown",
      "metadata": {
        "id": "Ol-76KvKOxzm",
        "colab_type": "text"
      },
      "source": [
        "Reinstall Keras \n",
        "(as installing iNNvestigate downgrades Keras version)"
      ]
    },
    {
      "cell_type": "code",
      "metadata": {
        "id": "Ryt7HGz2ELxy",
        "colab_type": "code",
        "colab": {}
      },
      "source": [
        "!pip install keras==2.3.1"
      ],
      "execution_count": null,
      "outputs": []
    },
    {
      "cell_type": "markdown",
      "metadata": {
        "id": "lBt4C1nhO4XN",
        "colab_type": "text"
      },
      "source": [
        "Import necessary packages"
      ]
    },
    {
      "cell_type": "code",
      "metadata": {
        "id": "BgomMta-ELyi",
        "colab_type": "code",
        "colab": {}
      },
      "source": [
        "import innvestigate\n",
        "import innvestigate.utils\n",
        "from keras.models import load_model\n",
        "import matplotlib.pyplot as plt\n",
        "import numpy as np\n",
        "import cv2\n",
        "from tqdm import tqdm_notebook\n",
        "import os\n",
        "from scipy import ndimage"
      ],
      "execution_count": null,
      "outputs": []
    },
    {
      "cell_type": "markdown",
      "metadata": {
        "id": "QsEgMt2-O70C",
        "colab_type": "text"
      },
      "source": [
        "List of methods supported by iNNvestigate"
      ]
    },
    {
      "cell_type": "code",
      "metadata": {
        "id": "5JhbFuuvELyo",
        "colab_type": "code",
        "colab": {}
      },
      "source": [
        "methods = \\\n",
        "['lrp.z_plus',                 \n",
        "'deep_taylor.bounded',         \n",
        "'lrp',                         \n",
        "'lrp.z_IB',                    \n",
        "'deep_taylor',                 \n",
        "'lrp.z',                       \n",
        "'lrp.alpha_1_beta_0_IB',       \n",
        "'lrp.sequential_preset_a_flat',\n",
        "'smoothgrad',                   \n",
        "'input_t_gradient',            \n",
        "'lrp.alpha_2_beta_1_IB',        \n",
        "'lrp.alpha_2_beta_1',           \n",
        "'lrp.epsilon_IB', \n",
        "'gradient', \n",
        "'pattern.attribution', \n",
        "'lrp.sequential_preset_a', \n",
        "'deconvnet', \n",
        "'integrated_gradients', \n",
        "'lrp.epsilon', \n",
        "'guided_backprop', \n",
        "'lrp.z_plus_fast', \n",
        "'lrp.w_square', \n",
        "'random', \n",
        "'pattern.net', \n",
        "'lrp.sequential_preset_b_flat', \n",
        "'deep_lift.wrapper', \n",
        "'lrp.alpha_1_beta_0', \n",
        "'input', \n",
        "'lrp.sequential_preset_b', \n",
        "'lrp.flat', \n",
        "'lrp.alpha_beta', \n",
        "'gradient.baseline']\n",
        "\n",
        "len(methods)"
      ],
      "execution_count": null,
      "outputs": []
    },
    {
      "cell_type": "markdown",
      "metadata": {
        "id": "FoViOuGdD1U8",
        "colab_type": "text"
      },
      "source": [
        "Add your image path in the cell below"
      ]
    },
    {
      "cell_type": "code",
      "metadata": {
        "id": "v0_OT4hvTdcY",
        "colab_type": "code",
        "colab": {}
      },
      "source": [
        "img_path = 'YOUR IMAGE PATH'"
      ],
      "execution_count": null,
      "outputs": []
    },
    {
      "cell_type": "markdown",
      "metadata": {
        "id": "skBEYZ9nD8R5",
        "colab_type": "text"
      },
      "source": [
        "Preprocess input"
      ]
    },
    {
      "cell_type": "code",
      "metadata": {
        "id": "1CiOkzHsDw7N",
        "colab_type": "code",
        "colab": {}
      },
      "source": [
        "x = plt.imread(img_path)\n",
        "plt.imshow(x)\n",
        "x = x/255\n",
        "x = np.expand_dims(x,0)\n",
        "x.shape"
      ],
      "execution_count": null,
      "outputs": []
    },
    {
      "cell_type": "markdown",
      "metadata": {
        "id": "VwUF-uKzEATb",
        "colab_type": "text"
      },
      "source": [
        "Load your Keras model below"
      ]
    },
    {
      "cell_type": "code",
      "metadata": {
        "id": "_LRcU0U8UWby",
        "colab_type": "code",
        "colab": {}
      },
      "source": [
        "# Add model path below\n",
        "model = load_model('YOUR MODEL PATH')"
      ],
      "execution_count": null,
      "outputs": []
    },
    {
      "cell_type": "markdown",
      "metadata": {
        "id": "slA2LBALEEXT",
        "colab_type": "text"
      },
      "source": [
        "Get model predictions"
      ]
    },
    {
      "cell_type": "code",
      "metadata": {
        "id": "MQDyBt-fUv6x",
        "colab_type": "code",
        "colab": {}
      },
      "source": [
        "model.predict(x)"
      ],
      "execution_count": null,
      "outputs": []
    },
    {
      "cell_type": "code",
      "metadata": {
        "id": "P8il4Dx-ELzX",
        "colab_type": "code",
        "colab": {}
      },
      "source": [
        "# Rename your model layers as shown below or however else you wish to prevent occurence of duplicate layer names\n",
        "for i, layer in enumerate(model.layers):\n",
        "    layer.name = 'layer_' + str(i)"
      ],
      "execution_count": null,
      "outputs": []
    },
    {
      "cell_type": "markdown",
      "metadata": {
        "id": "kpvqluu4QK-z",
        "colab_type": "text"
      },
      "source": [
        "Choose your method"
      ]
    },
    {
      "cell_type": "code",
      "metadata": {
        "id": "spTlfFfaP_rg",
        "colab_type": "code",
        "colab": {}
      },
      "source": [
        "my_method = 'CHOOSE YOUR METHOD FROM PREVIOUS LIST' # eg: 'lrp.z_plus', 'deep_taylor.bounded'\n",
        "print('Chosen method: ',my_method)"
      ],
      "execution_count": null,
      "outputs": []
    },
    {
      "cell_type": "markdown",
      "metadata": {
        "id": "_Li62BeHRlF0",
        "colab_type": "text"
      },
      "source": [
        "Create Analyzer"
      ]
    },
    {
      "cell_type": "code",
      "metadata": {
        "id": "bbLdZZEJJ46D",
        "colab_type": "code",
        "colab": {}
      },
      "source": [
        "# Create Analyzer object\n",
        "analyzer = innvestigate.create_analyzer(my_method, model)\n",
        "# Analyze result\n",
        "a = analyzer.analyze(x)\n",
        "\n",
        "a = a.sum(axis=3)\n",
        "a /= np.max(np.abs(a))"
      ],
      "execution_count": null,
      "outputs": []
    },
    {
      "cell_type": "markdown",
      "metadata": {
        "id": "9_U0StNmRncz",
        "colab_type": "text"
      },
      "source": [
        "Visualize Results on a specific method"
      ]
    },
    {
      "cell_type": "code",
      "metadata": {
        "id": "kzqA6RYHRiVX",
        "colab_type": "code",
        "colab": {}
      },
      "source": [
        "plt.figure(facecolor='white')\n",
        "plt.imshow(plt.imread(img_path))\n",
        "plt.imshow(a[0], cmap=\"seismic\", clim=(-1, 1), alpha =0.5)\n",
        "plt.title('Method: ',my_method)"
      ],
      "execution_count": null,
      "outputs": []
    },
    {
      "cell_type": "markdown",
      "metadata": {
        "id": "3CWl8QJmRr7R",
        "colab_type": "text"
      },
      "source": [
        "Visualize multiple methods side by side"
      ]
    },
    {
      "cell_type": "code",
      "metadata": {
        "scrolled": false,
        "id": "feo69fgbELzs",
        "colab_type": "code",
        "colab": {}
      },
      "source": [
        "plt.figure(figsize=(80,80), facecolor='white')\n",
        "\n",
        "for i in tqdm_notebook(range(16)):\n",
        "    try:\n",
        "        analyzer = innvestigate.create_analyzer(methods[i], model)\n",
        "        a = analyzer.analyze(x)\n",
        "        a = a.sum(axis=3)\n",
        "        a /= np.max(np.abs(a))\n",
        "        # Plot\n",
        "        plt.subplot(4,8,i+1)\n",
        "        plt.axis('off')\n",
        "        plt.imshow(plt.imread(img_path))\n",
        "        plt.imshow(a[0], cmap=\"seismic\", clim=(-1, 1), alpha =0.5)\n",
        "        plt.title(methods[i])\n",
        "    except:\n",
        "        pass\n",
        "    fig.tight_layout(h_pad=0, w_pad=0)\n",
        "    plt.subplots_adjust(wspace=0, hspace=0)"
      ],
      "execution_count": null,
      "outputs": []
    },
    {
      "cell_type": "markdown",
      "metadata": {
        "id": "GaZK4GyWESIR",
        "colab_type": "text"
      },
      "source": [
        "# **Testing Sensitivity to Gaussian Noise and Affine Transformations**"
      ]
    },
    {
      "cell_type": "markdown",
      "metadata": {
        "id": "6LqEo-rQEqv9",
        "colab_type": "text"
      },
      "source": [
        "Function outlining the perturbed input"
      ]
    },
    {
      "cell_type": "code",
      "metadata": {
        "id": "uX42XWBm7L3h",
        "colab_type": "code",
        "colab": {}
      },
      "source": [
        "def noise(img,value):\n",
        "    if(value==0):\n",
        "        t = img\n",
        "        t = t[:,:,::-1]\n",
        "    if(value==1):\n",
        "        t = cv2.GaussianBlur(img,(5,5),cv2.BORDER_DEFAULT)\n",
        "        t = t[:,:,::-1]\n",
        "    if(value==2):\n",
        "        t = ndimage.rotate(img,90,reshape=False)\n",
        "        t = t[:,:,::-1]\n",
        "    if(value==3):\n",
        "        t = ndimage.rotate(img,180,reshape=False)\n",
        "        t = t[:,:,::-1]\n",
        "    if(value==4):\n",
        "        t = ndimage.rotate(img,270,reshape=False)\n",
        "        t = t[:,:,::-1]\n",
        "    return t"
      ],
      "execution_count": null,
      "outputs": []
    },
    {
      "cell_type": "markdown",
      "metadata": {
        "id": "YrOOSloXSKt-",
        "colab_type": "text"
      },
      "source": [
        "Function operating LRP on perturbed input"
      ]
    },
    {
      "cell_type": "code",
      "metadata": {
        "id": "wlHW5e607MBs",
        "colab_type": "code",
        "colab": {}
      },
      "source": [
        "def inn_noise(img,value):\n",
        "    x = noise(img,value)\n",
        "    x = (x/255).astype(np.float32)\n",
        "    x = np.expand_dims(x, axis=0)\n",
        "    a = analyzer.analyze(x)\n",
        "    a = a.sum(axis=3)\n",
        "    a /= np.max(np.abs(a))\n",
        "    return a[0]"
      ],
      "execution_count": null,
      "outputs": []
    },
    {
      "cell_type": "markdown",
      "metadata": {
        "id": "ikHD7jbvSoy6",
        "colab_type": "text"
      },
      "source": [
        "Visualize results"
      ]
    },
    {
      "cell_type": "code",
      "metadata": {
        "id": "Pd16m-24JH7v",
        "colab_type": "code",
        "colab": {}
      },
      "source": [
        "img = cv2.imread(img_path)\n",
        "# Add your method below\n",
        "method = 'YOUR METHOD GOES HERE'\n",
        "# Create analyzer for above method\n",
        "analyzer = innvestigate.create_analyzer(method, model)\n",
        "\n",
        "fig = plt.figure(figsize=(50, 50), facecolor='white')\n",
        "for i in range(1,11):\n",
        "    plt.subplot(2,5,i)\n",
        "    if i<6:\n",
        "        plt.imshow(noise(img, i-1))\n",
        "    else:\n",
        "        plt.imshow(noise(img,i-6))\n",
        "        plt.imshow(inn_noise(img,i-6), cmap=\"seismic\", clim=(-1, 1), alpha =0.5)\n",
        "    \n",
        "    plt.axis('off')\n",
        "    fig.tight_layout(h_pad=0, w_pad=0)\n",
        "    plt.subplots_adjust(top = 0.99, bottom=0.01, wspace=0, hspace=0)\n",
        "    fig.suptitle(\"Method: \" + method, fontsize=100)"
      ],
      "execution_count": null,
      "outputs": []
    }
  ]
}