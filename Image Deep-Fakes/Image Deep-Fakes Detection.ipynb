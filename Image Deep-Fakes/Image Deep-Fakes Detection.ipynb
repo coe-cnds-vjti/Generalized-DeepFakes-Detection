{
 "cells": [
  {
   "cell_type": "markdown",
   "metadata": {
    "colab_type": "text",
    "id": "49F2I4s8IIek"
   },
   "source": [
    "# Detecting Synthetic Faces"
   ]
  },
  {
   "cell_type": "markdown",
   "metadata": {
    "colab_type": "text",
    "id": "3rFJAVM-Ibfi"
   },
   "source": [
    "Library used for backbone of detection pipeline is Fast AI. Refer to [documentation](https://docs.fast.ai/) for more information."
   ]
  },
  {
   "cell_type": "markdown",
   "metadata": {
    "colab_type": "text",
    "id": "4ypJG7GwCBHT"
   },
   "source": [
    "### Importing Data"
   ]
  },
  {
   "cell_type": "code",
   "execution_count": null,
   "metadata": {
    "colab": {
     "base_uri": "https://localhost:8080/",
     "height": 122
    },
    "colab_type": "code",
    "executionInfo": {
     "elapsed": 553642,
     "status": "ok",
     "timestamp": 1588430113822,
     "user": {
      "displayName": "Pranjal Ranjan",
      "photoUrl": "",
      "userId": "11920187851512423256"
     },
     "user_tz": -330
    },
    "id": "RJg9wCkpSIHK",
    "outputId": "5b328bea-2cd9-42ac-ee67-782a85c1bdd5"
   },
   "outputs": [
    {
     "name": "stdout",
     "output_type": "stream",
     "text": [
      "Go to this URL in a browser: https://accounts.google.com/o/oauth2/auth?client_id=947318989803-6bn6qk8qdgf4n4g3pfee6491hc0brc4i.apps.googleusercontent.com&redirect_uri=urn%3aietf%3awg%3aoauth%3a2.0%3aoob&response_type=code&scope=email%20https%3a%2f%2fwww.googleapis.com%2fauth%2fdocs.test%20https%3a%2f%2fwww.googleapis.com%2fauth%2fdrive%20https%3a%2f%2fwww.googleapis.com%2fauth%2fdrive.photos.readonly%20https%3a%2f%2fwww.googleapis.com%2fauth%2fpeopleapi.readonly\n",
      "\n",
      "Enter your authorization code:\n",
      "··········\n",
      "Mounted at /content/drive\n"
     ]
    }
   ],
   "source": [
    "from google.colab import drive\n",
    "drive.mount('/content/drive')"
   ]
  },
  {
   "cell_type": "code",
   "execution_count": null,
   "metadata": {
    "colab": {
     "base_uri": "https://localhost:8080/",
     "height": 34
    },
    "colab_type": "code",
    "executionInfo": {
     "elapsed": 1246,
     "status": "ok",
     "timestamp": 1588430914232,
     "user": {
      "displayName": "Pranjal Ranjan",
      "photoUrl": "",
      "userId": "11920187851512423256"
     },
     "user_tz": -330
    },
    "id": "BN9niy29blLC",
    "outputId": "a706707c-25cd-49fe-89ce-62126f357c28"
   },
   "outputs": [
    {
     "name": "stdout",
     "output_type": "stream",
     "text": [
      "env: TORCH_HOME=drive/My Drive/models\n"
     ]
    }
   ],
   "source": [
    "%env TORCH_HOME=drive/My Drive/models"
   ]
  },
  {
   "cell_type": "code",
   "execution_count": null,
   "metadata": {
    "colab": {},
    "colab_type": "code",
    "id": "cab8xllXHFkO"
   },
   "outputs": [],
   "source": [
    "!cp '/content/drive/My Drive/new_data/test.zip' .\n",
    "!unzip -q test.zip\n",
    "!rm test.zip\n",
    "!cp '/content/drive/My Drive/new_data/val_psis.zip' .\n",
    "!unzip -q val_psis.zip\n",
    "!rm val_psis.zip\n",
    "!cp '/content/drive/My Drive/new_data/test_psis.zip' .\n",
    "!unzip -q test_psis.zip\n",
    "!rm test_psis.zip"
   ]
  },
  {
   "cell_type": "code",
   "execution_count": null,
   "metadata": {
    "colab": {},
    "colab_type": "code",
    "id": "yX94TSbIvkzM"
   },
   "outputs": [],
   "source": [
    "!cp '/content/drive/My Drive/new_data/128.zip' .\n",
    "!unzip -q 128.zip\n",
    "!rm 128.zip"
   ]
  },
  {
   "cell_type": "code",
   "execution_count": null,
   "metadata": {
    "colab": {},
    "colab_type": "code",
    "id": "Sdsllv8uvtFC"
   },
   "outputs": [],
   "source": [
    "!cp '/content/drive/My Drive/new_data/64.zip' .\n",
    "!unzip -q 64.zip\n",
    "!rm 64.zip"
   ]
  },
  {
   "cell_type": "markdown",
   "metadata": {
    "colab_type": "text",
    "id": "mRszfrUYCG1V"
   },
   "source": [
    "### Training"
   ]
  },
  {
   "cell_type": "code",
   "execution_count": null,
   "metadata": {
    "colab": {},
    "colab_type": "code",
    "id": "2JUQ4c1gSRFT"
   },
   "outputs": [],
   "source": [
    "%%capture\n",
    "!pip install pretrainedmodels"
   ]
  },
  {
   "cell_type": "code",
   "execution_count": null,
   "metadata": {
    "colab": {},
    "colab_type": "code",
    "id": "a5HMN3gFU9mh"
   },
   "outputs": [],
   "source": [
    "from fastai.vision import *\n",
    "from fastai.vision.models import cadene_models\n",
    "from fastai.metrics import error_rate\n",
    "from fastai.callbacks import *\n",
    "from fastai.distributed import *\n",
    "import torch\n",
    "import torch.nn as nn"
   ]
  },
  {
   "cell_type": "code",
   "execution_count": null,
   "metadata": {
    "colab": {},
    "colab_type": "code",
    "id": "14wRHhXSf-4G"
   },
   "outputs": [],
   "source": [
    "paths=['64','128']"
   ]
  },
  {
   "cell_type": "code",
   "execution_count": null,
   "metadata": {
    "cellView": "both",
    "colab": {
     "base_uri": "https://localhost:8080/",
     "height": 34
    },
    "colab_type": "code",
    "executionInfo": {
     "elapsed": 10906,
     "status": "ok",
     "timestamp": 1588430947868,
     "user": {
      "displayName": "Pranjal Ranjan",
      "photoUrl": "",
      "userId": "11920187851512423256"
     },
     "user_tz": -330
    },
    "id": "NPfZpBknaMVW",
    "outputId": "afc9abcc-3577-47df-8b59-84f121d5eec4"
   },
   "outputs": [
    {
     "name": "stdout",
     "output_type": "stream",
     "text": [
      "64\n"
     ]
    }
   ],
   "source": [
    "idx_paths = \"0\"  #@param [0, 1, 2, 3]\n",
    "path=paths[int(idx_paths)]\n",
    "bs=100\n",
    "print(path)"
   ]
  },
  {
   "cell_type": "code",
   "execution_count": null,
   "metadata": {
    "colab": {
     "base_uri": "https://localhost:8080/",
     "height": 34
    },
    "colab_type": "code",
    "executionInfo": {
     "elapsed": 9948,
     "status": "ok",
     "timestamp": 1588430947868,
     "user": {
      "displayName": "Pranjal Ranjan",
      "photoUrl": "",
      "userId": "11920187851512423256"
     },
     "user_tz": -330
    },
    "id": "Y5ZGUSBa-j6W",
    "outputId": "a6974623-80de-42b6-e631-67560d5bfafa"
   },
   "outputs": [
    {
     "name": "stdout",
     "output_type": "stream",
     "text": [
      "64\n"
     ]
    }
   ],
   "source": [
    "size=int(path)\n",
    "print(size)"
   ]
  },
  {
   "cell_type": "code",
   "execution_count": null,
   "metadata": {
    "colab": {},
    "colab_type": "code",
    "id": "LPM_Byl8H9O5"
   },
   "outputs": [],
   "source": [
    "import numpy as np\n",
    "np.random.seed(42)"
   ]
  },
  {
   "cell_type": "code",
   "execution_count": null,
   "metadata": {
    "colab": {},
    "colab_type": "code",
    "id": "whrGWzYKVdKZ"
   },
   "outputs": [],
   "source": [
    "#For Training\n",
    "data=ImageDataBunch.from_folder(path,train='train',valid='val',seed=42,bs=bs).normalize(imagenet_stats)"
   ]
  },
  {
   "cell_type": "code",
   "execution_count": null,
   "metadata": {
    "colab": {},
    "colab_type": "code",
    "id": "DyngZq51tOL2"
   },
   "outputs": [],
   "source": [
    "data.show_batch()"
   ]
  },
  {
   "cell_type": "code",
   "execution_count": null,
   "metadata": {
    "colab": {},
    "colab_type": "code",
    "id": "GlSxtPc9gVQ6"
   },
   "outputs": [],
   "source": [
    "from fastai.vision import *\n",
    "resnet_models=[models.resnet18,models.resnet34,models.resnet50,models.resnet101,models.resnet152]\n",
    "vgg_models=[models.vgg11_bn,models.vgg13_bn,models.vgg16_bn,models.vgg19_bn]\n",
    "densenet_models=[models.densenet121,models.densenet161,models.densenet169,models.densenet201]\n",
    "models=[resnet_models,vgg_models,densenet_models]"
   ]
  },
  {
   "cell_type": "code",
   "execution_count": null,
   "metadata": {
    "cellView": "both",
    "colab": {},
    "colab_type": "code",
    "id": "LmMCGD7QGAwE"
   },
   "outputs": [],
   "source": [
    "type_idx=\"1\" #@param [0, 1, 2, 3]\n",
    "model_idx=\"0\" #@param [0, 1, 2, 3, 4, 5, 6, 7 ,8 ,9 ,10]\n",
    "model=models[int(type_idx)][int(model_idx)]\n",
    "model_name=str(model).split()[1]\n",
    "print(model_name)"
   ]
  },
  {
   "cell_type": "code",
   "execution_count": null,
   "metadata": {
    "colab": {},
    "colab_type": "code",
    "id": "hQy-aTo6czYq"
   },
   "outputs": [],
   "source": [
    "learn = cnn_learner(data, model, metrics=[error_rate,accuracy],path='drive/My Drive/models/',pretrained=True)#.to_fp16()"
   ]
  },
  {
   "cell_type": "code",
   "execution_count": null,
   "metadata": {
    "colab": {},
    "colab_type": "code",
    "id": "YcMlcFIMcEgB"
   },
   "outputs": [],
   "source": [
    "learn.lr_find()"
   ]
  },
  {
   "cell_type": "code",
   "execution_count": null,
   "metadata": {
    "colab": {},
    "colab_type": "code",
    "id": "M7v9I9urcFdG"
   },
   "outputs": [],
   "source": [
    "learn.recorder.plot(suggestion=True)"
   ]
  },
  {
   "cell_type": "code",
   "execution_count": null,
   "metadata": {
    "colab": {},
    "colab_type": "code",
    "id": "TDVPeLCIcHhG"
   },
   "outputs": [],
   "source": [
    "learn.fit_one_cycle(10,max_lr=1e-3,callbacks=[SaveModelCallback(learn,monitor='valid_loss',mode='min',name=f\"{model_name}_{path}_1\"),ShowGraph(learn)])"
   ]
  },
  {
   "cell_type": "code",
   "execution_count": null,
   "metadata": {
    "colab": {},
    "colab_type": "code",
    "id": "SYQgUDCa04nk"
   },
   "outputs": [],
   "source": [
    "%%capture\n",
    "learn.load(f'{model_name}_{path}_1')"
   ]
  },
  {
   "cell_type": "code",
   "execution_count": null,
   "metadata": {
    "colab": {},
    "colab_type": "code",
    "id": "VHYGW4y3cbiT"
   },
   "outputs": [],
   "source": [
    "learn.validate()"
   ]
  },
  {
   "cell_type": "code",
   "execution_count": null,
   "metadata": {
    "colab": {},
    "colab_type": "code",
    "id": "dsAEAjOOB3yS"
   },
   "outputs": [],
   "source": [
    "psis_val=['50','60','70','80','90']\n",
    "psis_test=['55','65','75','85','95']\n",
    "print(\"test\")\n",
    "for psi in psis_test:\n",
    "  data_val=ImageDataBunch.from_folder(path=\"test_psis\",train='test_'+psi,valid='test_'+psi,seed=42,bs=bs,size=(size,size)).normalize(imagenet_stats)\n",
    "  learn.data=data_val\n",
    "  print(psi,end=' ')\n",
    "  x=learn.validate()\n",
    "  print(x)\n",
    "print(\"total test\")\n",
    "data_test=ImageDataBunch.from_folder(path=\"test\",train='test',valid='test',seed=42,bs=bs,size=(size,size)).normalize(imagenet_stats)\n",
    "learn.data=data_test\n",
    "x=learn.validate()\n",
    "print(x)"
   ]
  },
  {
   "cell_type": "markdown",
   "metadata": {
    "colab_type": "text",
    "id": "hG3uzCAZznqd"
   },
   "source": [
    "\n",
    "\n",
    "### Training Loop for all models"
   ]
  },
  {
   "cell_type": "code",
   "execution_count": null,
   "metadata": {
    "colab": {},
    "colab_type": "code",
    "id": "RS6_Qlqgzrwb"
   },
   "outputs": [],
   "source": [
    "from fastai.vision import *\n",
    "resnet_models=[models.resnet18,models.resnet34,models.resnet50,models.resnet101,models.resnet152]\n",
    "vgg_models=[models.vgg11_bn,models.vgg13_bn,models.vgg16_bn,models.vgg19_bn]\n",
    "densenet_models=[models.densenet121,models.densenet161,models.densenet169,models.densenet201]\n",
    "models=[resnet_models,vgg_models,densenet_models]"
   ]
  },
  {
   "cell_type": "code",
   "execution_count": null,
   "metadata": {
    "colab": {},
    "colab_type": "code",
    "id": "nnfctkFNYNg4"
   },
   "outputs": [],
   "source": [
    "#Training loop\n",
    "from IPython.display import clear_output\n",
    "#for model_category in models:\n",
    "for model in densenet_models:\n",
    "  model_name=str(model).split()[1]\n",
    "  print(model_name)\n",
    "  learn = cnn_learner(data, model, metrics=[error_rate,accuracy],path='drive/My Drive/models/',pretrained=True)#.to_fp16()\n",
    "  learn.fit_one_cycle(20,max_lr=1.2e-3,callbacks=[SaveModelCallback(learn,monitor='valid_loss',mode='min',name=f\"{model_name}_{path}_1\"),ShowGraph(learn)])\n",
    "  psis_test=['55','65','75','85','95']\n",
    "  print(\"test\")\n",
    "  for psi in psis_test:\n",
    "    data_val=ImageDataBunch.from_folder(path=\"test_psis\",train='test_'+psi,valid='test_'+psi,seed=42,bs=bs,size=(size,size)).normalize(imagenet_stats)\n",
    "    learn.data=data_val\n",
    "    print(psi,end=' ')\n",
    "    x=learn.validate()\n",
    "    print(x)\n",
    "  print(\"total test\")\n",
    "  data_test=ImageDataBunch.from_folder(path=\"test\",train='test',valid='test',seed=42,bs=bs,size=(size,size)).normalize(imagenet_stats)\n",
    "  learn.data=data_test\n",
    "  x=learn.validate()\n",
    "  print(x)\n",
    "  #clear_output(wait=True)"
   ]
  },
  {
   "cell_type": "code",
   "execution_count": null,
   "metadata": {
    "colab": {
     "base_uri": "https://localhost:8080/",
     "height": 1000
    },
    "colab_type": "code",
    "executionInfo": {
     "elapsed": 493280,
     "status": "ok",
     "timestamp": 1588047763967,
     "user": {
      "displayName": "Pranjal Ranjan",
      "photoUrl": "",
      "userId": "11920187851512423256"
     },
     "user_tz": -330
    },
    "id": "If617nP_WMFj",
    "outputId": "cd214eab-0ff3-43be-d2ec-71b2ac1d1958"
   },
   "outputs": [
    {
     "name": "stdout",
     "output_type": "stream",
     "text": [
      "resnet18\n",
      "test\n",
      "55 "
     ]
    },
    {
     "data": {
      "text/html": [],
      "text/plain": [
       "<IPython.core.display.HTML object>"
      ]
     },
     "metadata": {
      "tags": []
     },
     "output_type": "display_data"
    },
    {
     "name": "stdout",
     "output_type": "stream",
     "text": [
      "[0.32156, tensor(0.1250), tensor(0.8750)]\n",
      "65 "
     ]
    },
    {
     "data": {
      "text/html": [],
      "text/plain": [
       "<IPython.core.display.HTML object>"
      ]
     },
     "metadata": {
      "tags": []
     },
     "output_type": "display_data"
    },
    {
     "name": "stdout",
     "output_type": "stream",
     "text": [
      "[0.3943863, tensor(0.1775), tensor(0.8225)]\n",
      "75 "
     ]
    },
    {
     "data": {
      "text/html": [],
      "text/plain": [
       "<IPython.core.display.HTML object>"
      ]
     },
     "metadata": {
      "tags": []
     },
     "output_type": "display_data"
    },
    {
     "name": "stdout",
     "output_type": "stream",
     "text": [
      "[0.55630124, tensor(0.2825), tensor(0.7175)]\n",
      "85 "
     ]
    },
    {
     "data": {
      "text/html": [],
      "text/plain": [
       "<IPython.core.display.HTML object>"
      ]
     },
     "metadata": {
      "tags": []
     },
     "output_type": "display_data"
    },
    {
     "name": "stdout",
     "output_type": "stream",
     "text": [
      "[0.66633314, tensor(0.3600), tensor(0.6400)]\n",
      "95 "
     ]
    },
    {
     "data": {
      "text/html": [],
      "text/plain": [
       "<IPython.core.display.HTML object>"
      ]
     },
     "metadata": {
      "tags": []
     },
     "output_type": "display_data"
    },
    {
     "name": "stdout",
     "output_type": "stream",
     "text": [
      "[0.83116454, tensor(0.4363), tensor(0.5638)]\n",
      "total test\n"
     ]
    },
    {
     "data": {
      "text/html": [],
      "text/plain": [
       "<IPython.core.display.HTML object>"
      ]
     },
     "metadata": {
      "tags": []
     },
     "output_type": "display_data"
    },
    {
     "name": "stdout",
     "output_type": "stream",
     "text": [
      "[0.553949, tensor(0.2763), tensor(0.7237)]\n",
      "resnet34\n",
      "test\n",
      "55 "
     ]
    },
    {
     "data": {
      "text/html": [],
      "text/plain": [
       "<IPython.core.display.HTML object>"
      ]
     },
     "metadata": {
      "tags": []
     },
     "output_type": "display_data"
    },
    {
     "name": "stdout",
     "output_type": "stream",
     "text": [
      "[0.25695026, tensor(0.0988), tensor(0.9013)]\n",
      "65 "
     ]
    },
    {
     "data": {
      "text/html": [],
      "text/plain": [
       "<IPython.core.display.HTML object>"
      ]
     },
     "metadata": {
      "tags": []
     },
     "output_type": "display_data"
    },
    {
     "name": "stdout",
     "output_type": "stream",
     "text": [
      "[0.31195953, tensor(0.1288), tensor(0.8712)]\n",
      "75 "
     ]
    },
    {
     "data": {
      "text/html": [],
      "text/plain": [
       "<IPython.core.display.HTML object>"
      ]
     },
     "metadata": {
      "tags": []
     },
     "output_type": "display_data"
    },
    {
     "name": "stdout",
     "output_type": "stream",
     "text": [
      "[0.5047029, tensor(0.2463), tensor(0.7538)]\n",
      "85 "
     ]
    },
    {
     "data": {
      "text/html": [],
      "text/plain": [
       "<IPython.core.display.HTML object>"
      ]
     },
     "metadata": {
      "tags": []
     },
     "output_type": "display_data"
    },
    {
     "name": "stdout",
     "output_type": "stream",
     "text": [
      "[0.7289224, tensor(0.3650), tensor(0.6350)]\n",
      "95 "
     ]
    },
    {
     "data": {
      "text/html": [],
      "text/plain": [
       "<IPython.core.display.HTML object>"
      ]
     },
     "metadata": {
      "tags": []
     },
     "output_type": "display_data"
    },
    {
     "name": "stdout",
     "output_type": "stream",
     "text": [
      "[0.9148544, tensor(0.4375), tensor(0.5625)]\n",
      "total test\n"
     ]
    },
    {
     "data": {
      "text/html": [],
      "text/plain": [
       "<IPython.core.display.HTML object>"
      ]
     },
     "metadata": {
      "tags": []
     },
     "output_type": "display_data"
    },
    {
     "name": "stdout",
     "output_type": "stream",
     "text": [
      "[0.5434779, tensor(0.2553), tensor(0.7448)]\n",
      "resnet50\n",
      "test\n",
      "55 "
     ]
    },
    {
     "data": {
      "text/html": [],
      "text/plain": [
       "<IPython.core.display.HTML object>"
      ]
     },
     "metadata": {
      "tags": []
     },
     "output_type": "display_data"
    },
    {
     "name": "stdout",
     "output_type": "stream",
     "text": [
      "[0.29543322, tensor(0.1188), tensor(0.8813)]\n",
      "65 "
     ]
    },
    {
     "data": {
      "text/html": [],
      "text/plain": [
       "<IPython.core.display.HTML object>"
      ]
     },
     "metadata": {
      "tags": []
     },
     "output_type": "display_data"
    },
    {
     "name": "stdout",
     "output_type": "stream",
     "text": [
      "[0.34799966, tensor(0.1563), tensor(0.8438)]\n",
      "75 "
     ]
    },
    {
     "data": {
      "text/html": [],
      "text/plain": [
       "<IPython.core.display.HTML object>"
      ]
     },
     "metadata": {
      "tags": []
     },
     "output_type": "display_data"
    },
    {
     "name": "stdout",
     "output_type": "stream",
     "text": [
      "[0.4954856, tensor(0.2363), tensor(0.7638)]\n",
      "85 "
     ]
    },
    {
     "data": {
      "text/html": [],
      "text/plain": [
       "<IPython.core.display.HTML object>"
      ]
     },
     "metadata": {
      "tags": []
     },
     "output_type": "display_data"
    },
    {
     "name": "stdout",
     "output_type": "stream",
     "text": [
      "[0.7178904, tensor(0.3738), tensor(0.6263)]\n",
      "95 "
     ]
    },
    {
     "data": {
      "text/html": [],
      "text/plain": [
       "<IPython.core.display.HTML object>"
      ]
     },
     "metadata": {
      "tags": []
     },
     "output_type": "display_data"
    },
    {
     "name": "stdout",
     "output_type": "stream",
     "text": [
      "[0.8414656, tensor(0.4175), tensor(0.5825)]\n",
      "total test\n"
     ]
    },
    {
     "data": {
      "text/html": [],
      "text/plain": [
       "<IPython.core.display.HTML object>"
      ]
     },
     "metadata": {
      "tags": []
     },
     "output_type": "display_data"
    },
    {
     "name": "stdout",
     "output_type": "stream",
     "text": [
      "[0.5396549, tensor(0.2605), tensor(0.7395)]\n",
      "resnet101\n",
      "test\n",
      "55 "
     ]
    },
    {
     "data": {
      "text/html": [],
      "text/plain": [
       "<IPython.core.display.HTML object>"
      ]
     },
     "metadata": {
      "tags": []
     },
     "output_type": "display_data"
    },
    {
     "name": "stdout",
     "output_type": "stream",
     "text": [
      "[0.22903274, tensor(0.0938), tensor(0.9062)]\n",
      "65 "
     ]
    },
    {
     "data": {
      "text/html": [],
      "text/plain": [
       "<IPython.core.display.HTML object>"
      ]
     },
     "metadata": {
      "tags": []
     },
     "output_type": "display_data"
    },
    {
     "name": "stdout",
     "output_type": "stream",
     "text": [
      "[0.32478112, tensor(0.1200), tensor(0.8800)]\n",
      "75 "
     ]
    },
    {
     "data": {
      "text/html": [],
      "text/plain": [
       "<IPython.core.display.HTML object>"
      ]
     },
     "metadata": {
      "tags": []
     },
     "output_type": "display_data"
    },
    {
     "name": "stdout",
     "output_type": "stream",
     "text": [
      "[0.5075954, tensor(0.2325), tensor(0.7675)]\n",
      "85 "
     ]
    },
    {
     "data": {
      "text/html": [],
      "text/plain": [
       "<IPython.core.display.HTML object>"
      ]
     },
     "metadata": {
      "tags": []
     },
     "output_type": "display_data"
    },
    {
     "name": "stdout",
     "output_type": "stream",
     "text": [
      "[0.6987662, tensor(0.3550), tensor(0.6450)]\n",
      "95 "
     ]
    },
    {
     "data": {
      "text/html": [],
      "text/plain": [
       "<IPython.core.display.HTML object>"
      ]
     },
     "metadata": {
      "tags": []
     },
     "output_type": "display_data"
    },
    {
     "name": "stdout",
     "output_type": "stream",
     "text": [
      "[0.879952, tensor(0.4137), tensor(0.5863)]\n",
      "total test\n"
     ]
    },
    {
     "data": {
      "text/html": [],
      "text/plain": [
       "<IPython.core.display.HTML object>"
      ]
     },
     "metadata": {
      "tags": []
     },
     "output_type": "display_data"
    },
    {
     "name": "stdout",
     "output_type": "stream",
     "text": [
      "[0.5280255, tensor(0.2430), tensor(0.7570)]\n",
      "resnet152\n",
      "test\n",
      "55 "
     ]
    },
    {
     "data": {
      "text/html": [],
      "text/plain": [
       "<IPython.core.display.HTML object>"
      ]
     },
     "metadata": {
      "tags": []
     },
     "output_type": "display_data"
    },
    {
     "name": "stdout",
     "output_type": "stream",
     "text": [
      "[0.27506116, tensor(0.1238), tensor(0.8763)]\n",
      "65 "
     ]
    },
    {
     "data": {
      "text/html": [],
      "text/plain": [
       "<IPython.core.display.HTML object>"
      ]
     },
     "metadata": {
      "tags": []
     },
     "output_type": "display_data"
    },
    {
     "name": "stdout",
     "output_type": "stream",
     "text": [
      "[0.34708512, tensor(0.1500), tensor(0.8500)]\n",
      "75 "
     ]
    },
    {
     "data": {
      "text/html": [],
      "text/plain": [
       "<IPython.core.display.HTML object>"
      ]
     },
     "metadata": {
      "tags": []
     },
     "output_type": "display_data"
    },
    {
     "name": "stdout",
     "output_type": "stream",
     "text": [
      "[0.48067582, tensor(0.2200), tensor(0.7800)]\n",
      "85 "
     ]
    },
    {
     "data": {
      "text/html": [],
      "text/plain": [
       "<IPython.core.display.HTML object>"
      ]
     },
     "metadata": {
      "tags": []
     },
     "output_type": "display_data"
    },
    {
     "name": "stdout",
     "output_type": "stream",
     "text": [
      "[0.65661865, tensor(0.3225), tensor(0.6775)]\n",
      "95 "
     ]
    },
    {
     "data": {
      "text/html": [],
      "text/plain": [
       "<IPython.core.display.HTML object>"
      ]
     },
     "metadata": {
      "tags": []
     },
     "output_type": "display_data"
    },
    {
     "name": "stdout",
     "output_type": "stream",
     "text": [
      "[0.7999374, tensor(0.4100), tensor(0.5900)]\n",
      "total test\n"
     ]
    },
    {
     "data": {
      "text/html": [],
      "text/plain": [
       "<IPython.core.display.HTML object>"
      ]
     },
     "metadata": {
      "tags": []
     },
     "output_type": "display_data"
    },
    {
     "name": "stdout",
     "output_type": "stream",
     "text": [
      "[0.5118756, tensor(0.2453), tensor(0.7548)]\n"
     ]
    }
   ],
   "source": [
    "#Testing loop\n",
    "for model in resnet_models:\n",
    "  model_name=str(model).split()[1]\n",
    "  print(model_name)\n",
    "  learn = cnn_learner(data, model, metrics=[error_rate,accuracy],path='drive/My Drive/models/',pretrained=True)#.to_fp16()\n",
    "  learn.load(f'{model_name}_{path}_1')\n",
    "  psis_test=['55','65','75','85','95']\n",
    "  print(\"test\")\n",
    "  for psi in psis_test:\n",
    "    data_val=ImageDataBunch.from_folder(path=\"test_psis\",train='test_'+psi,valid='test_'+psi,seed=42,bs=bs,size=(size,size)).normalize(imagenet_stats)\n",
    "    learn.data=data_val\n",
    "    print(psi,end=' ')\n",
    "    x=learn.validate()\n",
    "    print(x)\n",
    "  print(\"total test\")\n",
    "  data_test=ImageDataBunch.from_folder(path=\"test\",train='test',valid='test',seed=42,bs=bs,size=(size,size)).normalize(imagenet_stats)\n",
    "  learn.data=data_test\n",
    "  x=learn.validate()\n",
    "  print(x)"
   ]
  }
 ],
 "metadata": {
  "accelerator": "GPU",
  "colab": {
   "collapsed_sections": [
    "mRszfrUYCG1V",
    "hG3uzCAZznqd"
   ],
   "name": "Image Deep-Fakes Detection",
   "provenance": [
    {
     "file_id": "1003bTCs3nDE6ntArDHRHFQcByPs41VW7",
     "timestamp": 1588047124235
    }
   ]
  },
  "kernelspec": {
   "display_name": "Python 3",
   "language": "python",
   "name": "python3"
  },
  "language_info": {
   "codemirror_mode": {
    "name": "ipython",
    "version": 3
   },
   "file_extension": ".py",
   "mimetype": "text/x-python",
   "name": "python",
   "nbconvert_exporter": "python",
   "pygments_lexer": "ipython3",
   "version": "3.7.4"
  }
 },
 "nbformat": 4,
 "nbformat_minor": 1
}
